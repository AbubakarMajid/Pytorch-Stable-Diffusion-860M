{
 "cells": [
  {
   "cell_type": "code",
   "execution_count": 1,
   "metadata": {},
   "outputs": [
    {
     "name": "stderr",
     "output_type": "stream",
     "text": [
      "c:\\Users\\abuba\\anaconda3\\envs\\diffusion\\Lib\\site-packages\\tqdm\\auto.py:21: TqdmWarning: IProgress not found. Please update jupyter and ipywidgets. See https://ipywidgets.readthedocs.io/en/stable/user_install.html\n",
      "  from .autonotebook import tqdm as notebook_tqdm\n"
     ]
    }
   ],
   "source": [
    "import model_loader\n",
    "import pipeline\n",
    "from PIL import Image\n",
    "from transformers import CLIPTokenizer\n",
    "import torch\n"
   ]
  },
  {
   "cell_type": "code",
   "execution_count": 2,
   "metadata": {},
   "outputs": [
    {
     "name": "stdout",
     "output_type": "stream",
     "text": [
      "cpu\n"
     ]
    }
   ],
   "source": [
    "\n",
    "import torch.backends\n",
    "\n",
    "\n",
    "DEVICE = 'cpu'\n",
    "\n",
    "ALLOW_CUDA = False\n",
    "ALLOW_MPS = False\n",
    "\n",
    "if torch.cuda.is_available() and ALLOW_CUDA:\n",
    "    DEVICE = 'cuda'\n",
    "elif (torch.has_mps or torch.backends.mps.is_available()) and ALLOW_MPS:\n",
    "    DEVICE = 'mps'\n",
    "print(DEVICE)"
   ]
  },
  {
   "cell_type": "code",
   "execution_count": 3,
   "metadata": {},
   "outputs": [
    {
     "ename": "RuntimeError",
     "evalue": "Error(s) in loading state_dict for Diffusion:\n\tMissing key(s) in state_dict: \"unet.decoders.2.1.conv_feature.weight\", \"unet.decoders.2.1.conv_feature.bias\", \"unet.decoders.5.2.conv_feature.weight\", \"unet.decoders.5.2.conv_feature.bias\", \"unet.decoders.8.2.conv_feature.weight\", \"unet.decoders.8.2.conv_feature.bias\", \"final.conv_feature.weight\", \"final.conv_feature.bias\". \n\tUnexpected key(s) in state_dict: \"unet.encoders.1.1.attention_2.out_proj.bias\", \"unet.encoders.2.1.attention_2.out_proj.bias\", \"unet.encoders.4.1.attention_2.out_proj.bias\", \"unet.encoders.5.1.attention_2.out_proj.bias\", \"unet.encoders.7.1.attention_2.out_proj.bias\", \"unet.encoders.8.1.attention_2.out_proj.bias\", \"unet.bottleneck.1.attention_2.out_proj.bias\", \"unet.decoders.2.1.conv.weight\", \"unet.decoders.2.1.conv.bias\", \"unet.decoders.3.1.attention_2.out_proj.bias\", \"unet.decoders.4.1.attention_2.out_proj.bias\", \"unet.decoders.5.1.attention_2.out_proj.bias\", \"unet.decoders.5.2.conv.weight\", \"unet.decoders.5.2.conv.bias\", \"unet.decoders.6.1.attention_2.out_proj.bias\", \"unet.decoders.7.1.attention_2.out_proj.bias\", \"unet.decoders.8.1.attention_2.out_proj.bias\", \"unet.decoders.8.2.conv.weight\", \"unet.decoders.8.2.conv.bias\", \"unet.decoders.9.1.attention_2.out_proj.bias\", \"unet.decoders.10.1.attention_2.out_proj.bias\", \"unet.decoders.11.1.attention_2.out_proj.bias\", \"final.conv.weight\", \"final.conv.bias\". ",
     "output_type": "error",
     "traceback": [
      "\u001b[1;31m---------------------------------------------------------------------------\u001b[0m",
      "\u001b[1;31mRuntimeError\u001b[0m                              Traceback (most recent call last)",
      "Cell \u001b[1;32mIn[3], line 3\u001b[0m\n\u001b[0;32m      1\u001b[0m tokenizer \u001b[38;5;241m=\u001b[39m CLIPTokenizer(\u001b[38;5;124m\"\u001b[39m\u001b[38;5;124m../data/vocab.json\u001b[39m\u001b[38;5;124m\"\u001b[39m, merges_file\u001b[38;5;241m=\u001b[39m\u001b[38;5;124m\"\u001b[39m\u001b[38;5;124m../data/merges.txt\u001b[39m\u001b[38;5;124m\"\u001b[39m)\n\u001b[0;32m      2\u001b[0m model_file \u001b[38;5;241m=\u001b[39m \u001b[38;5;124m\"\u001b[39m\u001b[38;5;124m../data/v1-5-pruned-emaonly.ckpt\u001b[39m\u001b[38;5;124m\"\u001b[39m\n\u001b[1;32m----> 3\u001b[0m models \u001b[38;5;241m=\u001b[39m \u001b[43mmodel_loader\u001b[49m\u001b[38;5;241;43m.\u001b[39;49m\u001b[43mpreload_models_from_standard_weights\u001b[49m\u001b[43m(\u001b[49m\u001b[43mmodel_file\u001b[49m\u001b[43m,\u001b[49m\u001b[43m \u001b[49m\u001b[43mDEVICE\u001b[49m\u001b[43m)\u001b[49m\n",
      "File \u001b[1;32mc:\\Users\\abuba\\Documents\\Gen_AI\\Stable_diffusion\\sd\\model_loader.py:17\u001b[0m, in \u001b[0;36mpreload_models_from_standard_weights\u001b[1;34m(ckpt_path, device)\u001b[0m\n\u001b[0;32m     14\u001b[0m decoder\u001b[38;5;241m.\u001b[39mload_state_dict(state_dict[\u001b[38;5;124m'\u001b[39m\u001b[38;5;124mdecoder\u001b[39m\u001b[38;5;124m'\u001b[39m],\u001b[38;5;124m'\u001b[39m\u001b[38;5;124mstrict\u001b[39m\u001b[38;5;124m'\u001b[39m)\n\u001b[0;32m     16\u001b[0m diffusion \u001b[38;5;241m=\u001b[39m Diffusion()\u001b[38;5;241m.\u001b[39mto(device)\n\u001b[1;32m---> 17\u001b[0m \u001b[43mdiffusion\u001b[49m\u001b[38;5;241;43m.\u001b[39;49m\u001b[43mload_state_dict\u001b[49m\u001b[43m(\u001b[49m\u001b[43mstate_dict\u001b[49m\u001b[43m[\u001b[49m\u001b[38;5;124;43m'\u001b[39;49m\u001b[38;5;124;43mdiffusion\u001b[39;49m\u001b[38;5;124;43m'\u001b[39;49m\u001b[43m]\u001b[49m\u001b[43m,\u001b[49m\u001b[43m \u001b[49m\u001b[43mstrict\u001b[49m\u001b[38;5;241;43m=\u001b[39;49m\u001b[38;5;28;43;01mTrue\u001b[39;49;00m\u001b[43m)\u001b[49m\n\u001b[0;32m     19\u001b[0m clip \u001b[38;5;241m=\u001b[39m CLIP()\u001b[38;5;241m.\u001b[39mto(device)\n\u001b[0;32m     20\u001b[0m clip\u001b[38;5;241m.\u001b[39mload_state_dict(state_dict[\u001b[38;5;124m'\u001b[39m\u001b[38;5;124mclip\u001b[39m\u001b[38;5;124m'\u001b[39m], strict\u001b[38;5;241m=\u001b[39m\u001b[38;5;28;01mTrue\u001b[39;00m)\n",
      "File \u001b[1;32mc:\\Users\\abuba\\anaconda3\\envs\\diffusion\\Lib\\site-packages\\torch\\nn\\modules\\module.py:2041\u001b[0m, in \u001b[0;36mModule.load_state_dict\u001b[1;34m(self, state_dict, strict)\u001b[0m\n\u001b[0;32m   2036\u001b[0m         error_msgs\u001b[38;5;241m.\u001b[39minsert(\n\u001b[0;32m   2037\u001b[0m             \u001b[38;5;241m0\u001b[39m, \u001b[38;5;124m'\u001b[39m\u001b[38;5;124mMissing key(s) in state_dict: \u001b[39m\u001b[38;5;132;01m{}\u001b[39;00m\u001b[38;5;124m. \u001b[39m\u001b[38;5;124m'\u001b[39m\u001b[38;5;241m.\u001b[39mformat(\n\u001b[0;32m   2038\u001b[0m                 \u001b[38;5;124m'\u001b[39m\u001b[38;5;124m, \u001b[39m\u001b[38;5;124m'\u001b[39m\u001b[38;5;241m.\u001b[39mjoin(\u001b[38;5;124m'\u001b[39m\u001b[38;5;124m\"\u001b[39m\u001b[38;5;132;01m{}\u001b[39;00m\u001b[38;5;124m\"\u001b[39m\u001b[38;5;124m'\u001b[39m\u001b[38;5;241m.\u001b[39mformat(k) \u001b[38;5;28;01mfor\u001b[39;00m k \u001b[38;5;129;01min\u001b[39;00m missing_keys)))\n\u001b[0;32m   2040\u001b[0m \u001b[38;5;28;01mif\u001b[39;00m \u001b[38;5;28mlen\u001b[39m(error_msgs) \u001b[38;5;241m>\u001b[39m \u001b[38;5;241m0\u001b[39m:\n\u001b[1;32m-> 2041\u001b[0m     \u001b[38;5;28;01mraise\u001b[39;00m \u001b[38;5;167;01mRuntimeError\u001b[39;00m(\u001b[38;5;124m'\u001b[39m\u001b[38;5;124mError(s) in loading state_dict for \u001b[39m\u001b[38;5;132;01m{}\u001b[39;00m\u001b[38;5;124m:\u001b[39m\u001b[38;5;130;01m\\n\u001b[39;00m\u001b[38;5;130;01m\\t\u001b[39;00m\u001b[38;5;132;01m{}\u001b[39;00m\u001b[38;5;124m'\u001b[39m\u001b[38;5;241m.\u001b[39mformat(\n\u001b[0;32m   2042\u001b[0m                        \u001b[38;5;28mself\u001b[39m\u001b[38;5;241m.\u001b[39m\u001b[38;5;18m__class__\u001b[39m\u001b[38;5;241m.\u001b[39m\u001b[38;5;18m__name__\u001b[39m, \u001b[38;5;124m\"\u001b[39m\u001b[38;5;130;01m\\n\u001b[39;00m\u001b[38;5;130;01m\\t\u001b[39;00m\u001b[38;5;124m\"\u001b[39m\u001b[38;5;241m.\u001b[39mjoin(error_msgs)))\n\u001b[0;32m   2043\u001b[0m \u001b[38;5;28;01mreturn\u001b[39;00m _IncompatibleKeys(missing_keys, unexpected_keys)\n",
      "\u001b[1;31mRuntimeError\u001b[0m: Error(s) in loading state_dict for Diffusion:\n\tMissing key(s) in state_dict: \"unet.decoders.2.1.conv_feature.weight\", \"unet.decoders.2.1.conv_feature.bias\", \"unet.decoders.5.2.conv_feature.weight\", \"unet.decoders.5.2.conv_feature.bias\", \"unet.decoders.8.2.conv_feature.weight\", \"unet.decoders.8.2.conv_feature.bias\", \"final.conv_feature.weight\", \"final.conv_feature.bias\". \n\tUnexpected key(s) in state_dict: \"unet.encoders.1.1.attention_2.out_proj.bias\", \"unet.encoders.2.1.attention_2.out_proj.bias\", \"unet.encoders.4.1.attention_2.out_proj.bias\", \"unet.encoders.5.1.attention_2.out_proj.bias\", \"unet.encoders.7.1.attention_2.out_proj.bias\", \"unet.encoders.8.1.attention_2.out_proj.bias\", \"unet.bottleneck.1.attention_2.out_proj.bias\", \"unet.decoders.2.1.conv.weight\", \"unet.decoders.2.1.conv.bias\", \"unet.decoders.3.1.attention_2.out_proj.bias\", \"unet.decoders.4.1.attention_2.out_proj.bias\", \"unet.decoders.5.1.attention_2.out_proj.bias\", \"unet.decoders.5.2.conv.weight\", \"unet.decoders.5.2.conv.bias\", \"unet.decoders.6.1.attention_2.out_proj.bias\", \"unet.decoders.7.1.attention_2.out_proj.bias\", \"unet.decoders.8.1.attention_2.out_proj.bias\", \"unet.decoders.8.2.conv.weight\", \"unet.decoders.8.2.conv.bias\", \"unet.decoders.9.1.attention_2.out_proj.bias\", \"unet.decoders.10.1.attention_2.out_proj.bias\", \"unet.decoders.11.1.attention_2.out_proj.bias\", \"final.conv.weight\", \"final.conv.bias\". "
     ]
    }
   ],
   "source": [
    "tokenizer = CLIPTokenizer(\"../data/vocab.json\", merges_file=\"../data/merges.txt\")\n",
    "model_file = \"../data/v1-5-pruned-emaonly.ckpt\"\n",
    "models = model_loader.preload_models_from_standard_weights(model_file, DEVICE)"
   ]
  },
  {
   "cell_type": "code",
   "execution_count": null,
   "metadata": {},
   "outputs": [],
   "source": []
  }
 ],
 "metadata": {
  "kernelspec": {
   "display_name": "diffusion",
   "language": "python",
   "name": "python3"
  },
  "language_info": {
   "codemirror_mode": {
    "name": "ipython",
    "version": 3
   },
   "file_extension": ".py",
   "mimetype": "text/x-python",
   "name": "python",
   "nbconvert_exporter": "python",
   "pygments_lexer": "ipython3",
   "version": "3.11.3"
  }
 },
 "nbformat": 4,
 "nbformat_minor": 2
}
